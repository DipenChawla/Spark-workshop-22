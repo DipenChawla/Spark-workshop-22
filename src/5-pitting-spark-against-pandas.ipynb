{
 "cells": [
  {
   "cell_type": "code",
   "execution_count": 3,
   "metadata": {},
   "outputs": [],
   "source": [
    "import findspark\n",
    "findspark.init()\n",
    "from pyspark.sql import SparkSession\n",
    "spark = SparkSession.builder.getOrCreate()\n"
   ]
  },
  {
   "cell_type": "code",
   "execution_count": 4,
   "metadata": {},
   "outputs": [],
   "source": [
    "import pandas as pd"
   ]
  },
  {
   "cell_type": "code",
   "execution_count": 8,
   "metadata": {},
   "outputs": [
    {
     "data": {
      "text/plain": [
       "(344, 7)"
      ]
     },
     "execution_count": 8,
     "metadata": {},
     "output_type": "execute_result"
    }
   ],
   "source": [
    "# 🐼 pandas \n",
    "pandasdf = pd.read_csv('../data/penguins.csv')\n",
    "pandasdf.shape\n",
    "\n",
    "# 🎇 PySpark\n",
    "df = spark.read.csv('../data/penguins.csv', header=True, inferSchema=True)\n",
    "df.count(), len(df.columns)"
   ]
  },
  {
   "cell_type": "code",
   "execution_count": 9,
   "metadata": {},
   "outputs": [
    {
     "name": "stdout",
     "output_type": "stream",
     "text": [
      "<class 'pandas.core.frame.DataFrame'>\n",
      "RangeIndex: 344 entries, 0 to 343\n",
      "Data columns (total 7 columns):\n",
      " #   Column             Non-Null Count  Dtype  \n",
      "---  ------             --------------  -----  \n",
      " 0   species            344 non-null    object \n",
      " 1   island             344 non-null    object \n",
      " 2   bill_length_mm     342 non-null    float64\n",
      " 3   bill_depth_mm      342 non-null    float64\n",
      " 4   flipper_length_mm  342 non-null    float64\n",
      " 5   body_mass_g        342 non-null    float64\n",
      " 6   sex                333 non-null    object \n",
      "dtypes: float64(4), object(3)\n",
      "memory usage: 18.9+ KB\n",
      "root\n",
      " |-- species: string (nullable = true)\n",
      " |-- island: string (nullable = true)\n",
      " |-- bill_length_mm: double (nullable = true)\n",
      " |-- bill_depth_mm: double (nullable = true)\n",
      " |-- flipper_length_mm: integer (nullable = true)\n",
      " |-- body_mass_g: integer (nullable = true)\n",
      " |-- sex: string (nullable = true)\n",
      "\n"
     ]
    }
   ],
   "source": [
    "# 🐼 pandas \n",
    "pandasdf.info()\n",
    "# 🎇 PySpark\n",
    "df.printSchema()"
   ]
  },
  {
   "cell_type": "code",
   "execution_count": 10,
   "metadata": {},
   "outputs": [
    {
     "name": "stdout",
     "output_type": "stream",
     "text": [
      "+-------+---------+--------------+-------------+-----------------+-----------+------+\n",
      "|species|   island|bill_length_mm|bill_depth_mm|flipper_length_mm|body_mass_g|   sex|\n",
      "+-------+---------+--------------+-------------+-----------------+-----------+------+\n",
      "| Adelie|Torgersen|          39.1|         18.7|              181|       3750|  MALE|\n",
      "| Adelie|Torgersen|          39.5|         17.4|              186|       3800|FEMALE|\n",
      "| Adelie|Torgersen|          40.3|         18.0|              195|       3250|FEMALE|\n",
      "| Adelie|Torgersen|          null|         null|             null|       null|  null|\n",
      "| Adelie|Torgersen|          36.7|         19.3|              193|       3450|FEMALE|\n",
      "+-------+---------+--------------+-------------+-----------------+-----------+------+\n",
      "only showing top 5 rows\n",
      "\n"
     ]
    }
   ],
   "source": [
    "# 🐼 pandas \n",
    "df.head()\n",
    "# 🎇 PySpark\n",
    "df.show(5)"
   ]
  },
  {
   "cell_type": "code",
   "execution_count": 13,
   "metadata": {},
   "outputs": [
    {
     "name": "stdout",
     "output_type": "stream",
     "text": [
      "+-------+---------+\n",
      "|species|   island|\n",
      "+-------+---------+\n",
      "| Adelie|Torgersen|\n",
      "| Adelie|Torgersen|\n",
      "| Adelie|Torgersen|\n",
      "+-------+---------+\n",
      "only showing top 3 rows\n",
      "\n"
     ]
    }
   ],
   "source": [
    "# 🐼 pandas \n",
    "pandasdf[['species', 'island']].head(3)\n",
    "# 🎇 PySpark\n",
    "df[['species', 'island']].show(3)"
   ]
  },
  {
   "cell_type": "code",
   "execution_count": 14,
   "metadata": {},
   "outputs": [
    {
     "name": "stdout",
     "output_type": "stream",
     "text": [
      "+-------+------+--------------+-------------+-----------------+-----------+------+\n",
      "|species|island|bill_length_mm|bill_depth_mm|flipper_length_mm|body_mass_g|   sex|\n",
      "+-------+------+--------------+-------------+-----------------+-----------+------+\n",
      "| Gentoo|Biscoe|          46.1|         13.2|              211|       4500|FEMALE|\n",
      "| Gentoo|Biscoe|          50.0|         16.3|              230|       5700|  MALE|\n",
      "| Gentoo|Biscoe|          48.7|         14.1|              210|       4450|FEMALE|\n",
      "| Gentoo|Biscoe|          50.0|         15.2|              218|       5700|  MALE|\n",
      "| Gentoo|Biscoe|          47.6|         14.5|              215|       5400|  MALE|\n",
      "+-------+------+--------------+-------------+-----------------+-----------+------+\n",
      "only showing top 5 rows\n",
      "\n"
     ]
    }
   ],
   "source": [
    "# 🐼 pandas \n",
    "pandasdf[pandasdf['species']=='Gentoo'].head()\n",
    "# 🎇 PySpark\n",
    "df[df['species']=='Gentoo'].show(5)"
   ]
  },
  {
   "cell_type": "code",
   "execution_count": null,
   "metadata": {},
   "outputs": [],
   "source": []
  }
 ],
 "metadata": {
  "interpreter": {
   "hash": "aee8b7b246df8f9039afb4144a1f6fd8d2ca17a180786b69acc140d282b71a49"
  },
  "kernelspec": {
   "display_name": "Python 3.9.9 64-bit",
   "language": "python",
   "name": "python3"
  },
  "language_info": {
   "codemirror_mode": {
    "name": "ipython",
    "version": 3
   },
   "file_extension": ".py",
   "mimetype": "text/x-python",
   "name": "python",
   "nbconvert_exporter": "python",
   "pygments_lexer": "ipython3",
   "version": "3.9.12"
  },
  "orig_nbformat": 4
 },
 "nbformat": 4,
 "nbformat_minor": 2
}
