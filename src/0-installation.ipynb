{
 "cells": [
  {
   "cell_type": "markdown",
   "metadata": {},
   "source": [
    "You might want to install Apache Spark on your laptop, to prototype programs and perform local checks. The easiest way to do so is to download a pre-built version of Spark (take the latest one). Untar it, move it to the location you want, and update your path such that it can be found when you launch a job:\n",
    "\n"
   ]
  },
  {
   "cell_type": "markdown",
   "metadata": {},
   "source": [
    "### Step 1\n",
    "Download the Spark Binary from [Apache Spark Website](http://spark.apache.org/downloads.html). And click on the Download Spark link to download Spark.\n"
   ]
  },
  {
   "cell_type": "markdown",
   "metadata": {},
   "source": [
    "### Step 2\n",
    "Once you have downloaded the above file, you can start with unzipping the file in your home directory. Just Open up the terminal and put these commands in.\n",
    "\n",
    "```bash\n",
    "cd ~\n",
    "cp Downloads/spark-3.2.1-bin-hadoop3.2.tar ~\n",
    "tar -zxvf spark-3.2.1-bin-hadoop3.2.tar\n",
    "```"
   ]
  },
  {
   "cell_type": "markdown",
   "metadata": {},
   "source": [
    "### Step 3\n",
    "\n",
    "```bash\n",
    "# Put those lines in your HOME/.bash_profile\n",
    "SPARK_HOME=/path/to/spark\n",
    "export PATH=$SPARK_HOME/bin:$SPARK_HOME/sbin:$PATH\n",
    "```\n",
    "\n",
    "If you're using the zsh shell, you can do the same thing by adding the following lines to your .zshrc file."
   ]
  },
  {
   "cell_type": "markdown",
   "metadata": {},
   "source": [
    "### Step 4\n",
    "\n",
    "Latest version of Spark should run on Java 8+, but I recommend using it on Java 8.\n",
    "If Java 8 is not present, download the JDK and set it using:\n",
    "\n",
    "If you are running Mac OS X, you can alternatively use homebrew to install Java 8.\n",
    "\n",
    "```bash\n",
    "brew install openjdk@8\n",
    "sudo ln -sfn /usr/local/opt/openjdk@8/libexec/openjdk.jdk /Library/Java/JavaVirtualMachines/openjdk-8.jdk\n",
    "echo 'export PATH=\"/usr/local/opt/openjdk@8/bin:$PATH\"' >> ~/.zshrc\n",
    "```\n",
    "\n",
    "If you are running Linux, use the following commands to install Java 8.\n",
    "\n",
    "```bash\n",
    "sudo apt install openjdk-8-jdk\n",
    "sudo update-alternatives --config java\n",
    "```\n",
    "\n",
    "Once you've installed Java 8, edit your `.bashrc` or `.zshrc` file and add the following line:\n",
    "\n",
    "```bash\n",
    "# Put this line in your HOME/.bash_profile, with the \n",
    "# version number you just downloaded. Example:\n",
    "export JAVA_HOME=`/usr/libexec/java_home -v 1.8.0_322`\n",
    "```"
   ]
  },
  {
   "cell_type": "markdown",
   "metadata": {},
   "source": [
    "## Using the PySpark shell\n",
    "\n",
    "The installation of Spark on your local machine is now complete :confetti_ball:. You can now use the PySpark shell to run PySpark code.\n",
    "\n",
    "To access the PySpark shell, just type pyspark in a terminal. You will be redirected to the standard python shell, augmented with spark environment and pre-loaded objects such as the sparkContext (sc) and the sparkSession (spark).\n",
    "\n",
    "\n",
    "\n",
    "Alternatively, you can use the IPython shell to run PySpark code.\n",
    "\n",
    "```bash\n",
    "PYSPARK_DRIVER_PYTHON=ipython pyspark\n",
    "```\n",
    "\n",
    "If you want to use a Jupyter environment, you can run Pyspark in a Jupyter notebook with the following command:\n",
    "\n",
    "```bash\n",
    "PYSPARK_DRIVER_PYTHON=jupyter-notebook pyspark\n",
    "```\n",
    "\n"
   ]
  },
  {
   "cell_type": "markdown",
   "metadata": {},
   "source": [
    "### Using findspark module\n",
    "\n",
    "findspark package is not specific to Jupyter Notebook, you can use this trick in your favorite IDE too.\n",
    "\n",
    "To install findspark:\n",
    "\n",
    "```bash\n",
    "pip install findspark\n",
    "```\n",
    "\n",
    "Irrespective of Jupyter notebook/Python script all you need to do to use spark is add following line in your code:\n",
    "\n",
    "import findspark\n",
    "findspark.init()"
   ]
  }
 ],
 "metadata": {
  "interpreter": {
   "hash": "aee8b7b246df8f9039afb4144a1f6fd8d2ca17a180786b69acc140d282b71a49"
  },
  "kernelspec": {
   "display_name": "Python 3.9.9 64-bit",
   "language": "python",
   "name": "python3"
  },
  "language_info": {
   "codemirror_mode": {
    "name": "ipython",
    "version": 3
   },
   "file_extension": ".py",
   "mimetype": "text/x-python",
   "name": "python",
   "nbconvert_exporter": "python",
   "pygments_lexer": "ipython3",
   "version": "3.9.9"
  },
  "orig_nbformat": 4
 },
 "nbformat": 4,
 "nbformat_minor": 2
}
