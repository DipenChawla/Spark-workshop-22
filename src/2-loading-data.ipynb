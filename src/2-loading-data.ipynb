{
 "cells": [
  {
   "cell_type": "code",
   "execution_count": 1,
   "metadata": {},
   "outputs": [],
   "source": [
    "import findspark\n",
    "findspark.init()"
   ]
  },
  {
   "cell_type": "code",
   "execution_count": 2,
   "metadata": {},
   "outputs": [],
   "source": [
    "from pyspark.sql import SparkSession\n",
    "\n",
    "# Initialise our Spark session\n",
    "spark = SparkSession.builder.getOrCreate()\n"
   ]
  },
  {
   "cell_type": "code",
   "execution_count": 6,
   "metadata": {},
   "outputs": [
    {
     "name": "stdout",
     "output_type": "stream",
     "text": [
      "root\n",
      " |-- _c0: string (nullable = true)\n",
      " |-- _c1: string (nullable = true)\n",
      " |-- _c2: string (nullable = true)\n",
      " |-- _c3: string (nullable = true)\n",
      " |-- _c4: string (nullable = true)\n",
      " |-- _c5: string (nullable = true)\n",
      " |-- _c6: string (nullable = true)\n",
      "\n"
     ]
    }
   ],
   "source": [
    "# Load simple CSV file\n",
    "df = spark.read.format(\"csv\")\\\n",
    "    .load(\"../data/penguins.csv\")\n",
    "df.printSchema()"
   ]
  },
  {
   "cell_type": "code",
   "execution_count": 8,
   "metadata": {},
   "outputs": [
    {
     "name": "stdout",
     "output_type": "stream",
     "text": [
      "root\n",
      " |-- species: string (nullable = true)\n",
      " |-- island: string (nullable = true)\n",
      " |-- bill_length_mm: double (nullable = true)\n",
      " |-- bill_depth_mm: double (nullable = true)\n",
      " |-- flipper_length_mm: integer (nullable = true)\n",
      " |-- body_mass_g: integer (nullable = true)\n",
      " |-- sex: string (nullable = true)\n",
      "\n"
     ]
    }
   ],
   "source": [
    "df = spark.read.format(\"csv\")\\\n",
    "    .option('inferSchema\", True)\\\n",
    "    .option(\"header', True)\\\n",
    "    .load(\"../data/penguins.csv\")\n",
    "df.printSchema()"
   ]
  },
  {
   "cell_type": "code",
   "execution_count": 9,
   "metadata": {},
   "outputs": [
    {
     "name": "stdout",
     "output_type": "stream",
     "text": [
      "+-------+---------+--------------+-------------+-----------------+-----------+------+\n",
      "|species|   island|bill_length_mm|bill_depth_mm|flipper_length_mm|body_mass_g|   sex|\n",
      "+-------+---------+--------------+-------------+-----------------+-----------+------+\n",
      "| Adelie|Torgersen|          39.1|         18.7|              181|       3750|  MALE|\n",
      "| Adelie|Torgersen|          39.5|         17.4|              186|       3800|FEMALE|\n",
      "| Adelie|Torgersen|          40.3|         18.0|              195|       3250|FEMALE|\n",
      "| Adelie|Torgersen|          null|         null|             null|       null|  null|\n",
      "| Adelie|Torgersen|          36.7|         19.3|              193|       3450|FEMALE|\n",
      "| Adelie|Torgersen|          39.3|         20.6|              190|       3650|  MALE|\n",
      "| Adelie|Torgersen|          38.9|         17.8|              181|       3625|FEMALE|\n",
      "| Adelie|Torgersen|          39.2|         19.6|              195|       4675|  MALE|\n",
      "| Adelie|Torgersen|          34.1|         18.1|              193|       3475|  null|\n",
      "| Adelie|Torgersen|          42.0|         20.2|              190|       4250|  null|\n",
      "| Adelie|Torgersen|          37.8|         17.1|              186|       3300|  null|\n",
      "| Adelie|Torgersen|          37.8|         17.3|              180|       3700|  null|\n",
      "| Adelie|Torgersen|          41.1|         17.6|              182|       3200|FEMALE|\n",
      "| Adelie|Torgersen|          38.6|         21.2|              191|       3800|  MALE|\n",
      "| Adelie|Torgersen|          34.6|         21.1|              198|       4400|  MALE|\n",
      "| Adelie|Torgersen|          36.6|         17.8|              185|       3700|FEMALE|\n",
      "| Adelie|Torgersen|          38.7|         19.0|              195|       3450|FEMALE|\n",
      "| Adelie|Torgersen|          42.5|         20.7|              197|       4500|  MALE|\n",
      "| Adelie|Torgersen|          34.4|         18.4|              184|       3325|FEMALE|\n",
      "| Adelie|Torgersen|          46.0|         21.5|              194|       4200|  MALE|\n",
      "+-------+---------+--------------+-------------+-----------------+-----------+------+\n",
      "only showing top 20 rows\n",
      "\n"
     ]
    }
   ],
   "source": [
    "# Make a nice representation of our data\n",
    "df.show()"
   ]
  },
  {
   "cell_type": "code",
   "execution_count": 16,
   "metadata": {},
   "outputs": [],
   "source": [
    "# Load data using Spark RDD API\n",
    "sc = spark._sc\n",
    "rdd = sc.textFile(\"../data/penguins.csv\")"
   ]
  },
  {
   "cell_type": "code",
   "execution_count": 17,
   "metadata": {},
   "outputs": [
    {
     "name": "stdout",
     "output_type": "stream",
     "text": [
      "First two elements of the RDD are: ['species,island,bill_length_mm,bill_depth_mm,flipper_length_mm,body_mass_g,sex', 'Adelie,Torgersen,39.1,18.7,181,3750,MALE']\n",
      "\n"
     ]
    }
   ],
   "source": [
    "print(\"First two elements of the RDD are: {}\\n\".format(rdd.take(2)))"
   ]
  },
  {
   "cell_type": "code",
   "execution_count": 19,
   "metadata": {},
   "outputs": [
    {
     "name": "stdout",
     "output_type": "stream",
     "text": [
      "root\n",
      " |-- species: string (nullable = true)\n",
      " |-- island: string (nullable = true)\n",
      " |-- bill_length_mm: string (nullable = true)\n",
      " |-- bill_depth_mm: string (nullable = true)\n",
      " |-- flipper_length_mm: string (nullable = true)\n",
      " |-- body_mass_g: string (nullable = true)\n",
      " |-- sex: string (nullable = true)\n",
      "\n"
     ]
    }
   ],
   "source": [
    "# First row contains column names\n",
    "names = rdd.map(lambda x: x.split(\",\")).take(1)[0]\n",
    "\n",
    "# Make it a DataFrame\n",
    "# 1. remove the first line which contains metadata\n",
    "# 2. split row elements into columns\n",
    "# 3. Assign correct data type\n",
    "# 4. Promote to DataFrame\n",
    "df = rdd\\\n",
    "    .filter(lambda x: 'species' not in x)\\\n",
    "    .map(lambda x: x.split(\",\"))\\\n",
    "    .toDF(names)\n",
    "df.printSchema()"
   ]
  },
  {
   "cell_type": "code",
   "execution_count": 20,
   "metadata": {},
   "outputs": [],
   "source": [
    "## Generating parquet data with pandas\n",
    "\n",
    "import pandas as pd\n",
    "df = pd.read_csv(\"../data/penguins.csv\")\n",
    "df.to_parquet(\"../data/penguins.parquet\")"
   ]
  },
  {
   "cell_type": "code",
   "execution_count": 22,
   "metadata": {},
   "outputs": [
    {
     "name": "stdout",
     "output_type": "stream",
     "text": [
      "root\n",
      " |-- species: string (nullable = true)\n",
      " |-- island: string (nullable = true)\n",
      " |-- bill_length_mm: double (nullable = true)\n",
      " |-- bill_depth_mm: double (nullable = true)\n",
      " |-- flipper_length_mm: double (nullable = true)\n",
      " |-- body_mass_g: double (nullable = true)\n",
      " |-- sex: string (nullable = true)\n",
      "\n",
      "+-------+---------+--------------+-------------+-----------------+-----------+------+\n",
      "|species|   island|bill_length_mm|bill_depth_mm|flipper_length_mm|body_mass_g|   sex|\n",
      "+-------+---------+--------------+-------------+-----------------+-----------+------+\n",
      "| Adelie|Torgersen|          39.1|         18.7|            181.0|     3750.0|  MALE|\n",
      "| Adelie|Torgersen|          39.5|         17.4|            186.0|     3800.0|FEMALE|\n",
      "| Adelie|Torgersen|          40.3|         18.0|            195.0|     3250.0|FEMALE|\n",
      "| Adelie|Torgersen|          null|         null|             null|       null|  null|\n",
      "| Adelie|Torgersen|          36.7|         19.3|            193.0|     3450.0|FEMALE|\n",
      "| Adelie|Torgersen|          39.3|         20.6|            190.0|     3650.0|  MALE|\n",
      "| Adelie|Torgersen|          38.9|         17.8|            181.0|     3625.0|FEMALE|\n",
      "| Adelie|Torgersen|          39.2|         19.6|            195.0|     4675.0|  MALE|\n",
      "| Adelie|Torgersen|          34.1|         18.1|            193.0|     3475.0|  null|\n",
      "| Adelie|Torgersen|          42.0|         20.2|            190.0|     4250.0|  null|\n",
      "| Adelie|Torgersen|          37.8|         17.1|            186.0|     3300.0|  null|\n",
      "| Adelie|Torgersen|          37.8|         17.3|            180.0|     3700.0|  null|\n",
      "| Adelie|Torgersen|          41.1|         17.6|            182.0|     3200.0|FEMALE|\n",
      "| Adelie|Torgersen|          38.6|         21.2|            191.0|     3800.0|  MALE|\n",
      "| Adelie|Torgersen|          34.6|         21.1|            198.0|     4400.0|  MALE|\n",
      "| Adelie|Torgersen|          36.6|         17.8|            185.0|     3700.0|FEMALE|\n",
      "| Adelie|Torgersen|          38.7|         19.0|            195.0|     3450.0|FEMALE|\n",
      "| Adelie|Torgersen|          42.5|         20.7|            197.0|     4500.0|  MALE|\n",
      "| Adelie|Torgersen|          34.4|         18.4|            184.0|     3325.0|FEMALE|\n",
      "| Adelie|Torgersen|          46.0|         21.5|            194.0|     4200.0|  MALE|\n",
      "+-------+---------+--------------+-------------+-----------------+-----------+------+\n",
      "only showing top 20 rows\n",
      "\n"
     ]
    }
   ],
   "source": [
    "# Same using Parquet - Note that the schema and the data types \n",
    "# are directly inferred. (use long for int by default).\n",
    "df_parquet = spark.read.format(\"parquet\").load(\"../data/penguins.parquet\")\n",
    "df_parquet.printSchema()\n",
    "df_parquet.show()"
   ]
  },
  {
   "cell_type": "code",
   "execution_count": 26,
   "metadata": {},
   "outputs": [
    {
     "data": {
      "text/html": [
       "<div>\n",
       "<style scoped>\n",
       "    .dataframe tbody tr th:only-of-type {\n",
       "        vertical-align: middle;\n",
       "    }\n",
       "\n",
       "    .dataframe tbody tr th {\n",
       "        vertical-align: top;\n",
       "    }\n",
       "\n",
       "    .dataframe thead th {\n",
       "        text-align: right;\n",
       "    }\n",
       "</style>\n",
       "<table border=\"1\" class=\"dataframe\">\n",
       "  <thead>\n",
       "    <tr style=\"text-align: right;\">\n",
       "      <th></th>\n",
       "      <th>species</th>\n",
       "      <th>island</th>\n",
       "      <th>bill_length_mm</th>\n",
       "      <th>bill_depth_mm</th>\n",
       "      <th>flipper_length_mm</th>\n",
       "      <th>body_mass_g</th>\n",
       "      <th>sex</th>\n",
       "    </tr>\n",
       "  </thead>\n",
       "  <tbody>\n",
       "    <tr>\n",
       "      <th>0</th>\n",
       "      <td>Adelie</td>\n",
       "      <td>Torgersen</td>\n",
       "      <td>39.1</td>\n",
       "      <td>18.7</td>\n",
       "      <td>181.0</td>\n",
       "      <td>3750.0</td>\n",
       "      <td>MALE</td>\n",
       "    </tr>\n",
       "    <tr>\n",
       "      <th>1</th>\n",
       "      <td>Adelie</td>\n",
       "      <td>Torgersen</td>\n",
       "      <td>39.5</td>\n",
       "      <td>17.4</td>\n",
       "      <td>186.0</td>\n",
       "      <td>3800.0</td>\n",
       "      <td>FEMALE</td>\n",
       "    </tr>\n",
       "    <tr>\n",
       "      <th>2</th>\n",
       "      <td>Adelie</td>\n",
       "      <td>Torgersen</td>\n",
       "      <td>40.3</td>\n",
       "      <td>18.0</td>\n",
       "      <td>195.0</td>\n",
       "      <td>3250.0</td>\n",
       "      <td>FEMALE</td>\n",
       "    </tr>\n",
       "    <tr>\n",
       "      <th>3</th>\n",
       "      <td>Adelie</td>\n",
       "      <td>Torgersen</td>\n",
       "      <td>NaN</td>\n",
       "      <td>NaN</td>\n",
       "      <td>NaN</td>\n",
       "      <td>NaN</td>\n",
       "      <td>NaN</td>\n",
       "    </tr>\n",
       "    <tr>\n",
       "      <th>4</th>\n",
       "      <td>Adelie</td>\n",
       "      <td>Torgersen</td>\n",
       "      <td>36.7</td>\n",
       "      <td>19.3</td>\n",
       "      <td>193.0</td>\n",
       "      <td>3450.0</td>\n",
       "      <td>FEMALE</td>\n",
       "    </tr>\n",
       "    <tr>\n",
       "      <th>...</th>\n",
       "      <td>...</td>\n",
       "      <td>...</td>\n",
       "      <td>...</td>\n",
       "      <td>...</td>\n",
       "      <td>...</td>\n",
       "      <td>...</td>\n",
       "      <td>...</td>\n",
       "    </tr>\n",
       "    <tr>\n",
       "      <th>339</th>\n",
       "      <td>Gentoo</td>\n",
       "      <td>Biscoe</td>\n",
       "      <td>NaN</td>\n",
       "      <td>NaN</td>\n",
       "      <td>NaN</td>\n",
       "      <td>NaN</td>\n",
       "      <td>NaN</td>\n",
       "    </tr>\n",
       "    <tr>\n",
       "      <th>340</th>\n",
       "      <td>Gentoo</td>\n",
       "      <td>Biscoe</td>\n",
       "      <td>46.8</td>\n",
       "      <td>14.3</td>\n",
       "      <td>215.0</td>\n",
       "      <td>4850.0</td>\n",
       "      <td>FEMALE</td>\n",
       "    </tr>\n",
       "    <tr>\n",
       "      <th>341</th>\n",
       "      <td>Gentoo</td>\n",
       "      <td>Biscoe</td>\n",
       "      <td>50.4</td>\n",
       "      <td>15.7</td>\n",
       "      <td>222.0</td>\n",
       "      <td>5750.0</td>\n",
       "      <td>MALE</td>\n",
       "    </tr>\n",
       "    <tr>\n",
       "      <th>342</th>\n",
       "      <td>Gentoo</td>\n",
       "      <td>Biscoe</td>\n",
       "      <td>45.2</td>\n",
       "      <td>14.8</td>\n",
       "      <td>212.0</td>\n",
       "      <td>5200.0</td>\n",
       "      <td>FEMALE</td>\n",
       "    </tr>\n",
       "    <tr>\n",
       "      <th>343</th>\n",
       "      <td>Gentoo</td>\n",
       "      <td>Biscoe</td>\n",
       "      <td>49.9</td>\n",
       "      <td>16.1</td>\n",
       "      <td>213.0</td>\n",
       "      <td>5400.0</td>\n",
       "      <td>MALE</td>\n",
       "    </tr>\n",
       "  </tbody>\n",
       "</table>\n",
       "<p>344 rows × 7 columns</p>\n",
       "</div>"
      ],
      "text/plain": [
       "    species     island  bill_length_mm  bill_depth_mm  flipper_length_mm  \\\n",
       "0    Adelie  Torgersen            39.1           18.7              181.0   \n",
       "1    Adelie  Torgersen            39.5           17.4              186.0   \n",
       "2    Adelie  Torgersen            40.3           18.0              195.0   \n",
       "3    Adelie  Torgersen             NaN            NaN                NaN   \n",
       "4    Adelie  Torgersen            36.7           19.3              193.0   \n",
       "..      ...        ...             ...            ...                ...   \n",
       "339  Gentoo     Biscoe             NaN            NaN                NaN   \n",
       "340  Gentoo     Biscoe            46.8           14.3              215.0   \n",
       "341  Gentoo     Biscoe            50.4           15.7              222.0   \n",
       "342  Gentoo     Biscoe            45.2           14.8              212.0   \n",
       "343  Gentoo     Biscoe            49.9           16.1              213.0   \n",
       "\n",
       "     body_mass_g     sex  \n",
       "0         3750.0    MALE  \n",
       "1         3800.0  FEMALE  \n",
       "2         3250.0  FEMALE  \n",
       "3            NaN     NaN  \n",
       "4         3450.0  FEMALE  \n",
       "..           ...     ...  \n",
       "339          NaN     NaN  \n",
       "340       4850.0  FEMALE  \n",
       "341       5750.0    MALE  \n",
       "342       5200.0  FEMALE  \n",
       "343       5400.0    MALE  \n",
       "\n",
       "[344 rows x 7 columns]"
      ]
     },
     "execution_count": 26,
     "metadata": {},
     "output_type": "execute_result"
    }
   ],
   "source": []
  },
  {
   "cell_type": "code",
   "execution_count": 37,
   "metadata": {},
   "outputs": [],
   "source": [
    "## Loading JSON data\n",
    "\n",
    "df_json = spark.read.option(\"multiline\", True)\\\n",
    "    .format(\"json\")\\\n",
    "    .load(\"../data/penguins.json\")"
   ]
  },
  {
   "cell_type": "code",
   "execution_count": 38,
   "metadata": {},
   "outputs": [
    {
     "name": "stdout",
     "output_type": "stream",
     "text": [
      "root\n",
      " |-- bill_depth_mm: double (nullable = true)\n",
      " |-- bill_length_mm: double (nullable = true)\n",
      " |-- body_mass_g: double (nullable = true)\n",
      " |-- flipper_length_mm: double (nullable = true)\n",
      " |-- island: string (nullable = true)\n",
      " |-- sex: string (nullable = true)\n",
      " |-- species: string (nullable = true)\n",
      "\n"
     ]
    }
   ],
   "source": [
    "df_json.printSchema()"
   ]
  }
 ],
 "metadata": {
  "interpreter": {
   "hash": "aee8b7b246df8f9039afb4144a1f6fd8d2ca17a180786b69acc140d282b71a49"
  },
  "kernelspec": {
   "display_name": "Python 3.9.9 64-bit",
   "language": "python",
   "name": "python3"
  },
  "language_info": {
   "codemirror_mode": {
    "name": "ipython",
    "version": 3
   },
   "file_extension": ".py",
   "mimetype": "text/x-python",
   "name": "python",
   "nbconvert_exporter": "python",
   "pygments_lexer": "ipython3",
   "version": "3.9.12"
  },
  "orig_nbformat": 4
 },
 "nbformat": 4,
 "nbformat_minor": 2
}
